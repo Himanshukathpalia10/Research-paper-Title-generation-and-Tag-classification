{
  "nbformat": 4,
  "nbformat_minor": 0,
  "metadata": {
    "colab": {
      "name": "Title_Generation_Summarization_bert-large.ipynb",
      "provenance": [],
      "machine_shape": "hm"
    },
    "kernelspec": {
      "name": "python3",
      "display_name": "Python 3"
    },
    "language_info": {
      "name": "python"
    },
    "accelerator": "GPU",
    "widgets": {
      "application/vnd.jupyter.widget-state+json": {
        "a98c66446b3f4618aa80cc86d290c11f": {
          "model_module": "@jupyter-widgets/controls",
          "model_name": "HBoxModel",
          "state": {
            "_view_name": "HBoxView",
            "_dom_classes": [],
            "_model_name": "HBoxModel",
            "_view_module": "@jupyter-widgets/controls",
            "_model_module_version": "1.5.0",
            "_view_count": null,
            "_view_module_version": "1.5.0",
            "box_style": "",
            "layout": "IPY_MODEL_948b59ba5934459da89cc902435caa9e",
            "_model_module": "@jupyter-widgets/controls",
            "children": [
              "IPY_MODEL_e3bd1bfaa31e47769c863a7aacf247ca",
              "IPY_MODEL_87607fb3e1544b928c9215739d28e465"
            ]
          }
        },
        "948b59ba5934459da89cc902435caa9e": {
          "model_module": "@jupyter-widgets/base",
          "model_name": "LayoutModel",
          "state": {
            "_view_name": "LayoutView",
            "grid_template_rows": null,
            "right": null,
            "justify_content": null,
            "_view_module": "@jupyter-widgets/base",
            "overflow": null,
            "_model_module_version": "1.2.0",
            "_view_count": null,
            "flex_flow": null,
            "width": null,
            "min_width": null,
            "border": null,
            "align_items": null,
            "bottom": null,
            "_model_module": "@jupyter-widgets/base",
            "top": null,
            "grid_column": null,
            "overflow_y": null,
            "overflow_x": null,
            "grid_auto_flow": null,
            "grid_area": null,
            "grid_template_columns": null,
            "flex": null,
            "_model_name": "LayoutModel",
            "justify_items": null,
            "grid_row": null,
            "max_height": null,
            "align_content": null,
            "visibility": null,
            "align_self": null,
            "height": null,
            "min_height": null,
            "padding": null,
            "grid_auto_rows": null,
            "grid_gap": null,
            "max_width": null,
            "order": null,
            "_view_module_version": "1.2.0",
            "grid_template_areas": null,
            "object_position": null,
            "object_fit": null,
            "grid_auto_columns": null,
            "margin": null,
            "display": null,
            "left": null
          }
        },
        "e3bd1bfaa31e47769c863a7aacf247ca": {
          "model_module": "@jupyter-widgets/controls",
          "model_name": "FloatProgressModel",
          "state": {
            "_view_name": "ProgressView",
            "style": "IPY_MODEL_38d4132fe43d4e9aa0948e648993fd89",
            "_dom_classes": [],
            "description": "Downloading: 100%",
            "_model_name": "FloatProgressModel",
            "bar_style": "success",
            "max": 625,
            "_view_module": "@jupyter-widgets/controls",
            "_model_module_version": "1.5.0",
            "value": 625,
            "_view_count": null,
            "_view_module_version": "1.5.0",
            "orientation": "horizontal",
            "min": 0,
            "description_tooltip": null,
            "_model_module": "@jupyter-widgets/controls",
            "layout": "IPY_MODEL_00b4ad8eec3948c3b2b8e7fe954d1c68"
          }
        },
        "87607fb3e1544b928c9215739d28e465": {
          "model_module": "@jupyter-widgets/controls",
          "model_name": "HTMLModel",
          "state": {
            "_view_name": "HTMLView",
            "style": "IPY_MODEL_9a054e43453749ab8e87aae649080aeb",
            "_dom_classes": [],
            "description": "",
            "_model_name": "HTMLModel",
            "placeholder": "​",
            "_view_module": "@jupyter-widgets/controls",
            "_model_module_version": "1.5.0",
            "value": " 625/625 [00:35&lt;00:00, 17.7B/s]",
            "_view_count": null,
            "_view_module_version": "1.5.0",
            "description_tooltip": null,
            "_model_module": "@jupyter-widgets/controls",
            "layout": "IPY_MODEL_147a0598644d467580e8c752bf0d64a8"
          }
        },
        "38d4132fe43d4e9aa0948e648993fd89": {
          "model_module": "@jupyter-widgets/controls",
          "model_name": "ProgressStyleModel",
          "state": {
            "_view_name": "StyleView",
            "_model_name": "ProgressStyleModel",
            "description_width": "initial",
            "_view_module": "@jupyter-widgets/base",
            "_model_module_version": "1.5.0",
            "_view_count": null,
            "_view_module_version": "1.2.0",
            "bar_color": null,
            "_model_module": "@jupyter-widgets/controls"
          }
        },
        "00b4ad8eec3948c3b2b8e7fe954d1c68": {
          "model_module": "@jupyter-widgets/base",
          "model_name": "LayoutModel",
          "state": {
            "_view_name": "LayoutView",
            "grid_template_rows": null,
            "right": null,
            "justify_content": null,
            "_view_module": "@jupyter-widgets/base",
            "overflow": null,
            "_model_module_version": "1.2.0",
            "_view_count": null,
            "flex_flow": null,
            "width": null,
            "min_width": null,
            "border": null,
            "align_items": null,
            "bottom": null,
            "_model_module": "@jupyter-widgets/base",
            "top": null,
            "grid_column": null,
            "overflow_y": null,
            "overflow_x": null,
            "grid_auto_flow": null,
            "grid_area": null,
            "grid_template_columns": null,
            "flex": null,
            "_model_name": "LayoutModel",
            "justify_items": null,
            "grid_row": null,
            "max_height": null,
            "align_content": null,
            "visibility": null,
            "align_self": null,
            "height": null,
            "min_height": null,
            "padding": null,
            "grid_auto_rows": null,
            "grid_gap": null,
            "max_width": null,
            "order": null,
            "_view_module_version": "1.2.0",
            "grid_template_areas": null,
            "object_position": null,
            "object_fit": null,
            "grid_auto_columns": null,
            "margin": null,
            "display": null,
            "left": null
          }
        },
        "9a054e43453749ab8e87aae649080aeb": {
          "model_module": "@jupyter-widgets/controls",
          "model_name": "DescriptionStyleModel",
          "state": {
            "_view_name": "StyleView",
            "_model_name": "DescriptionStyleModel",
            "description_width": "",
            "_view_module": "@jupyter-widgets/base",
            "_model_module_version": "1.5.0",
            "_view_count": null,
            "_view_module_version": "1.2.0",
            "_model_module": "@jupyter-widgets/controls"
          }
        },
        "147a0598644d467580e8c752bf0d64a8": {
          "model_module": "@jupyter-widgets/base",
          "model_name": "LayoutModel",
          "state": {
            "_view_name": "LayoutView",
            "grid_template_rows": null,
            "right": null,
            "justify_content": null,
            "_view_module": "@jupyter-widgets/base",
            "overflow": null,
            "_model_module_version": "1.2.0",
            "_view_count": null,
            "flex_flow": null,
            "width": null,
            "min_width": null,
            "border": null,
            "align_items": null,
            "bottom": null,
            "_model_module": "@jupyter-widgets/base",
            "top": null,
            "grid_column": null,
            "overflow_y": null,
            "overflow_x": null,
            "grid_auto_flow": null,
            "grid_area": null,
            "grid_template_columns": null,
            "flex": null,
            "_model_name": "LayoutModel",
            "justify_items": null,
            "grid_row": null,
            "max_height": null,
            "align_content": null,
            "visibility": null,
            "align_self": null,
            "height": null,
            "min_height": null,
            "padding": null,
            "grid_auto_rows": null,
            "grid_gap": null,
            "max_width": null,
            "order": null,
            "_view_module_version": "1.2.0",
            "grid_template_areas": null,
            "object_position": null,
            "object_fit": null,
            "grid_auto_columns": null,
            "margin": null,
            "display": null,
            "left": null
          }
        },
        "efdf136d82844e748951cfd2305a7eb1": {
          "model_module": "@jupyter-widgets/controls",
          "model_name": "HBoxModel",
          "state": {
            "_view_name": "HBoxView",
            "_dom_classes": [],
            "_model_name": "HBoxModel",
            "_view_module": "@jupyter-widgets/controls",
            "_model_module_version": "1.5.0",
            "_view_count": null,
            "_view_module_version": "1.5.0",
            "box_style": "",
            "layout": "IPY_MODEL_a2cd632451d64431a5aa0bf3984b500c",
            "_model_module": "@jupyter-widgets/controls",
            "children": [
              "IPY_MODEL_65702592d7ce416a96267554c9e79ddd",
              "IPY_MODEL_471d62b0461b490097e75a278bad16ce"
            ]
          }
        },
        "a2cd632451d64431a5aa0bf3984b500c": {
          "model_module": "@jupyter-widgets/base",
          "model_name": "LayoutModel",
          "state": {
            "_view_name": "LayoutView",
            "grid_template_rows": null,
            "right": null,
            "justify_content": null,
            "_view_module": "@jupyter-widgets/base",
            "overflow": null,
            "_model_module_version": "1.2.0",
            "_view_count": null,
            "flex_flow": null,
            "width": null,
            "min_width": null,
            "border": null,
            "align_items": null,
            "bottom": null,
            "_model_module": "@jupyter-widgets/base",
            "top": null,
            "grid_column": null,
            "overflow_y": null,
            "overflow_x": null,
            "grid_auto_flow": null,
            "grid_area": null,
            "grid_template_columns": null,
            "flex": null,
            "_model_name": "LayoutModel",
            "justify_items": null,
            "grid_row": null,
            "max_height": null,
            "align_content": null,
            "visibility": null,
            "align_self": null,
            "height": null,
            "min_height": null,
            "padding": null,
            "grid_auto_rows": null,
            "grid_gap": null,
            "max_width": null,
            "order": null,
            "_view_module_version": "1.2.0",
            "grid_template_areas": null,
            "object_position": null,
            "object_fit": null,
            "grid_auto_columns": null,
            "margin": null,
            "display": null,
            "left": null
          }
        },
        "65702592d7ce416a96267554c9e79ddd": {
          "model_module": "@jupyter-widgets/controls",
          "model_name": "FloatProgressModel",
          "state": {
            "_view_name": "ProgressView",
            "style": "IPY_MODEL_48a6d672bcc841cbb46786c720d2e690",
            "_dom_classes": [],
            "description": "Downloading: 100%",
            "_model_name": "FloatProgressModel",
            "bar_style": "success",
            "max": 1338740706,
            "_view_module": "@jupyter-widgets/controls",
            "_model_module_version": "1.5.0",
            "value": 1338740706,
            "_view_count": null,
            "_view_module_version": "1.5.0",
            "orientation": "horizontal",
            "min": 0,
            "description_tooltip": null,
            "_model_module": "@jupyter-widgets/controls",
            "layout": "IPY_MODEL_510babcd29d14fe9907cc7329cb8fc03"
          }
        },
        "471d62b0461b490097e75a278bad16ce": {
          "model_module": "@jupyter-widgets/controls",
          "model_name": "HTMLModel",
          "state": {
            "_view_name": "HTMLView",
            "style": "IPY_MODEL_cfbc43e5385941a28f0bba50139327a4",
            "_dom_classes": [],
            "description": "",
            "_model_name": "HTMLModel",
            "placeholder": "​",
            "_view_module": "@jupyter-widgets/controls",
            "_model_module_version": "1.5.0",
            "value": " 1.34G/1.34G [00:34&lt;00:00, 38.5MB/s]",
            "_view_count": null,
            "_view_module_version": "1.5.0",
            "description_tooltip": null,
            "_model_module": "@jupyter-widgets/controls",
            "layout": "IPY_MODEL_8d72e63e8ab743d8ba6c4acd1d7999aa"
          }
        },
        "48a6d672bcc841cbb46786c720d2e690": {
          "model_module": "@jupyter-widgets/controls",
          "model_name": "ProgressStyleModel",
          "state": {
            "_view_name": "StyleView",
            "_model_name": "ProgressStyleModel",
            "description_width": "initial",
            "_view_module": "@jupyter-widgets/base",
            "_model_module_version": "1.5.0",
            "_view_count": null,
            "_view_module_version": "1.2.0",
            "bar_color": null,
            "_model_module": "@jupyter-widgets/controls"
          }
        },
        "510babcd29d14fe9907cc7329cb8fc03": {
          "model_module": "@jupyter-widgets/base",
          "model_name": "LayoutModel",
          "state": {
            "_view_name": "LayoutView",
            "grid_template_rows": null,
            "right": null,
            "justify_content": null,
            "_view_module": "@jupyter-widgets/base",
            "overflow": null,
            "_model_module_version": "1.2.0",
            "_view_count": null,
            "flex_flow": null,
            "width": null,
            "min_width": null,
            "border": null,
            "align_items": null,
            "bottom": null,
            "_model_module": "@jupyter-widgets/base",
            "top": null,
            "grid_column": null,
            "overflow_y": null,
            "overflow_x": null,
            "grid_auto_flow": null,
            "grid_area": null,
            "grid_template_columns": null,
            "flex": null,
            "_model_name": "LayoutModel",
            "justify_items": null,
            "grid_row": null,
            "max_height": null,
            "align_content": null,
            "visibility": null,
            "align_self": null,
            "height": null,
            "min_height": null,
            "padding": null,
            "grid_auto_rows": null,
            "grid_gap": null,
            "max_width": null,
            "order": null,
            "_view_module_version": "1.2.0",
            "grid_template_areas": null,
            "object_position": null,
            "object_fit": null,
            "grid_auto_columns": null,
            "margin": null,
            "display": null,
            "left": null
          }
        },
        "cfbc43e5385941a28f0bba50139327a4": {
          "model_module": "@jupyter-widgets/controls",
          "model_name": "DescriptionStyleModel",
          "state": {
            "_view_name": "StyleView",
            "_model_name": "DescriptionStyleModel",
            "description_width": "",
            "_view_module": "@jupyter-widgets/base",
            "_model_module_version": "1.5.0",
            "_view_count": null,
            "_view_module_version": "1.2.0",
            "_model_module": "@jupyter-widgets/controls"
          }
        },
        "8d72e63e8ab743d8ba6c4acd1d7999aa": {
          "model_module": "@jupyter-widgets/base",
          "model_name": "LayoutModel",
          "state": {
            "_view_name": "LayoutView",
            "grid_template_rows": null,
            "right": null,
            "justify_content": null,
            "_view_module": "@jupyter-widgets/base",
            "overflow": null,
            "_model_module_version": "1.2.0",
            "_view_count": null,
            "flex_flow": null,
            "width": null,
            "min_width": null,
            "border": null,
            "align_items": null,
            "bottom": null,
            "_model_module": "@jupyter-widgets/base",
            "top": null,
            "grid_column": null,
            "overflow_y": null,
            "overflow_x": null,
            "grid_auto_flow": null,
            "grid_area": null,
            "grid_template_columns": null,
            "flex": null,
            "_model_name": "LayoutModel",
            "justify_items": null,
            "grid_row": null,
            "max_height": null,
            "align_content": null,
            "visibility": null,
            "align_self": null,
            "height": null,
            "min_height": null,
            "padding": null,
            "grid_auto_rows": null,
            "grid_gap": null,
            "max_width": null,
            "order": null,
            "_view_module_version": "1.2.0",
            "grid_template_areas": null,
            "object_position": null,
            "object_fit": null,
            "grid_auto_columns": null,
            "margin": null,
            "display": null,
            "left": null
          }
        },
        "861530b73bec4c169bd001c5edef63c8": {
          "model_module": "@jupyter-widgets/controls",
          "model_name": "HBoxModel",
          "state": {
            "_view_name": "HBoxView",
            "_dom_classes": [],
            "_model_name": "HBoxModel",
            "_view_module": "@jupyter-widgets/controls",
            "_model_module_version": "1.5.0",
            "_view_count": null,
            "_view_module_version": "1.5.0",
            "box_style": "",
            "layout": "IPY_MODEL_ed8aab835dab4e58838ecd108136440c",
            "_model_module": "@jupyter-widgets/controls",
            "children": [
              "IPY_MODEL_b7895472644841d09e4231bf8891d54c",
              "IPY_MODEL_15053d7e659049d590443a1e9d62127f"
            ]
          }
        },
        "ed8aab835dab4e58838ecd108136440c": {
          "model_module": "@jupyter-widgets/base",
          "model_name": "LayoutModel",
          "state": {
            "_view_name": "LayoutView",
            "grid_template_rows": null,
            "right": null,
            "justify_content": null,
            "_view_module": "@jupyter-widgets/base",
            "overflow": null,
            "_model_module_version": "1.2.0",
            "_view_count": null,
            "flex_flow": null,
            "width": null,
            "min_width": null,
            "border": null,
            "align_items": null,
            "bottom": null,
            "_model_module": "@jupyter-widgets/base",
            "top": null,
            "grid_column": null,
            "overflow_y": null,
            "overflow_x": null,
            "grid_auto_flow": null,
            "grid_area": null,
            "grid_template_columns": null,
            "flex": null,
            "_model_name": "LayoutModel",
            "justify_items": null,
            "grid_row": null,
            "max_height": null,
            "align_content": null,
            "visibility": null,
            "align_self": null,
            "height": null,
            "min_height": null,
            "padding": null,
            "grid_auto_rows": null,
            "grid_gap": null,
            "max_width": null,
            "order": null,
            "_view_module_version": "1.2.0",
            "grid_template_areas": null,
            "object_position": null,
            "object_fit": null,
            "grid_auto_columns": null,
            "margin": null,
            "display": null,
            "left": null
          }
        },
        "b7895472644841d09e4231bf8891d54c": {
          "model_module": "@jupyter-widgets/controls",
          "model_name": "FloatProgressModel",
          "state": {
            "_view_name": "ProgressView",
            "style": "IPY_MODEL_cc25fa98ad0d496f8a8925850e876da1",
            "_dom_classes": [],
            "description": "Downloading: 100%",
            "_model_name": "FloatProgressModel",
            "bar_style": "success",
            "max": 213450,
            "_view_module": "@jupyter-widgets/controls",
            "_model_module_version": "1.5.0",
            "value": 213450,
            "_view_count": null,
            "_view_module_version": "1.5.0",
            "orientation": "horizontal",
            "min": 0,
            "description_tooltip": null,
            "_model_module": "@jupyter-widgets/controls",
            "layout": "IPY_MODEL_19e6991cb1d9457b9318e048fc7e7b45"
          }
        },
        "15053d7e659049d590443a1e9d62127f": {
          "model_module": "@jupyter-widgets/controls",
          "model_name": "HTMLModel",
          "state": {
            "_view_name": "HTMLView",
            "style": "IPY_MODEL_1a8afcf0217b42abaf87d4f5157dcfa5",
            "_dom_classes": [],
            "description": "",
            "_model_name": "HTMLModel",
            "placeholder": "​",
            "_view_module": "@jupyter-widgets/controls",
            "_model_module_version": "1.5.0",
            "value": " 213k/213k [00:00&lt;00:00, 304kB/s]",
            "_view_count": null,
            "_view_module_version": "1.5.0",
            "description_tooltip": null,
            "_model_module": "@jupyter-widgets/controls",
            "layout": "IPY_MODEL_95b593f03818431194635b882bbb0344"
          }
        },
        "cc25fa98ad0d496f8a8925850e876da1": {
          "model_module": "@jupyter-widgets/controls",
          "model_name": "ProgressStyleModel",
          "state": {
            "_view_name": "StyleView",
            "_model_name": "ProgressStyleModel",
            "description_width": "initial",
            "_view_module": "@jupyter-widgets/base",
            "_model_module_version": "1.5.0",
            "_view_count": null,
            "_view_module_version": "1.2.0",
            "bar_color": null,
            "_model_module": "@jupyter-widgets/controls"
          }
        },
        "19e6991cb1d9457b9318e048fc7e7b45": {
          "model_module": "@jupyter-widgets/base",
          "model_name": "LayoutModel",
          "state": {
            "_view_name": "LayoutView",
            "grid_template_rows": null,
            "right": null,
            "justify_content": null,
            "_view_module": "@jupyter-widgets/base",
            "overflow": null,
            "_model_module_version": "1.2.0",
            "_view_count": null,
            "flex_flow": null,
            "width": null,
            "min_width": null,
            "border": null,
            "align_items": null,
            "bottom": null,
            "_model_module": "@jupyter-widgets/base",
            "top": null,
            "grid_column": null,
            "overflow_y": null,
            "overflow_x": null,
            "grid_auto_flow": null,
            "grid_area": null,
            "grid_template_columns": null,
            "flex": null,
            "_model_name": "LayoutModel",
            "justify_items": null,
            "grid_row": null,
            "max_height": null,
            "align_content": null,
            "visibility": null,
            "align_self": null,
            "height": null,
            "min_height": null,
            "padding": null,
            "grid_auto_rows": null,
            "grid_gap": null,
            "max_width": null,
            "order": null,
            "_view_module_version": "1.2.0",
            "grid_template_areas": null,
            "object_position": null,
            "object_fit": null,
            "grid_auto_columns": null,
            "margin": null,
            "display": null,
            "left": null
          }
        },
        "1a8afcf0217b42abaf87d4f5157dcfa5": {
          "model_module": "@jupyter-widgets/controls",
          "model_name": "DescriptionStyleModel",
          "state": {
            "_view_name": "StyleView",
            "_model_name": "DescriptionStyleModel",
            "description_width": "",
            "_view_module": "@jupyter-widgets/base",
            "_model_module_version": "1.5.0",
            "_view_count": null,
            "_view_module_version": "1.2.0",
            "_model_module": "@jupyter-widgets/controls"
          }
        },
        "95b593f03818431194635b882bbb0344": {
          "model_module": "@jupyter-widgets/base",
          "model_name": "LayoutModel",
          "state": {
            "_view_name": "LayoutView",
            "grid_template_rows": null,
            "right": null,
            "justify_content": null,
            "_view_module": "@jupyter-widgets/base",
            "overflow": null,
            "_model_module_version": "1.2.0",
            "_view_count": null,
            "flex_flow": null,
            "width": null,
            "min_width": null,
            "border": null,
            "align_items": null,
            "bottom": null,
            "_model_module": "@jupyter-widgets/base",
            "top": null,
            "grid_column": null,
            "overflow_y": null,
            "overflow_x": null,
            "grid_auto_flow": null,
            "grid_area": null,
            "grid_template_columns": null,
            "flex": null,
            "_model_name": "LayoutModel",
            "justify_items": null,
            "grid_row": null,
            "max_height": null,
            "align_content": null,
            "visibility": null,
            "align_self": null,
            "height": null,
            "min_height": null,
            "padding": null,
            "grid_auto_rows": null,
            "grid_gap": null,
            "max_width": null,
            "order": null,
            "_view_module_version": "1.2.0",
            "grid_template_areas": null,
            "object_position": null,
            "object_fit": null,
            "grid_auto_columns": null,
            "margin": null,
            "display": null,
            "left": null
          }
        },
        "494a96b6f7a04607a14732963b3213e9": {
          "model_module": "@jupyter-widgets/controls",
          "model_name": "HBoxModel",
          "state": {
            "_view_name": "HBoxView",
            "_dom_classes": [],
            "_model_name": "HBoxModel",
            "_view_module": "@jupyter-widgets/controls",
            "_model_module_version": "1.5.0",
            "_view_count": null,
            "_view_module_version": "1.5.0",
            "box_style": "",
            "layout": "IPY_MODEL_9d84d3e2821a4788a8364b4a17e2d505",
            "_model_module": "@jupyter-widgets/controls",
            "children": [
              "IPY_MODEL_2aac663194c5430eb0719bf587a36484",
              "IPY_MODEL_3c210c85187049268c0682e72be16776"
            ]
          }
        },
        "9d84d3e2821a4788a8364b4a17e2d505": {
          "model_module": "@jupyter-widgets/base",
          "model_name": "LayoutModel",
          "state": {
            "_view_name": "LayoutView",
            "grid_template_rows": null,
            "right": null,
            "justify_content": null,
            "_view_module": "@jupyter-widgets/base",
            "overflow": null,
            "_model_module_version": "1.2.0",
            "_view_count": null,
            "flex_flow": null,
            "width": null,
            "min_width": null,
            "border": null,
            "align_items": null,
            "bottom": null,
            "_model_module": "@jupyter-widgets/base",
            "top": null,
            "grid_column": null,
            "overflow_y": null,
            "overflow_x": null,
            "grid_auto_flow": null,
            "grid_area": null,
            "grid_template_columns": null,
            "flex": null,
            "_model_name": "LayoutModel",
            "justify_items": null,
            "grid_row": null,
            "max_height": null,
            "align_content": null,
            "visibility": null,
            "align_self": null,
            "height": null,
            "min_height": null,
            "padding": null,
            "grid_auto_rows": null,
            "grid_gap": null,
            "max_width": null,
            "order": null,
            "_view_module_version": "1.2.0",
            "grid_template_areas": null,
            "object_position": null,
            "object_fit": null,
            "grid_auto_columns": null,
            "margin": null,
            "display": null,
            "left": null
          }
        },
        "2aac663194c5430eb0719bf587a36484": {
          "model_module": "@jupyter-widgets/controls",
          "model_name": "FloatProgressModel",
          "state": {
            "_view_name": "ProgressView",
            "style": "IPY_MODEL_885c9d1ef0aa489ba1b6f18de90b0821",
            "_dom_classes": [],
            "description": "Downloading: 100%",
            "_model_name": "FloatProgressModel",
            "bar_style": "success",
            "max": 435797,
            "_view_module": "@jupyter-widgets/controls",
            "_model_module_version": "1.5.0",
            "value": 435797,
            "_view_count": null,
            "_view_module_version": "1.5.0",
            "orientation": "horizontal",
            "min": 0,
            "description_tooltip": null,
            "_model_module": "@jupyter-widgets/controls",
            "layout": "IPY_MODEL_6599c2f07822440bba5f0cf27212ff43"
          }
        },
        "3c210c85187049268c0682e72be16776": {
          "model_module": "@jupyter-widgets/controls",
          "model_name": "HTMLModel",
          "state": {
            "_view_name": "HTMLView",
            "style": "IPY_MODEL_f0fb3e3266be4953977da970e6d137b0",
            "_dom_classes": [],
            "description": "",
            "_model_name": "HTMLModel",
            "placeholder": "​",
            "_view_module": "@jupyter-widgets/controls",
            "_model_module_version": "1.5.0",
            "value": " 436k/436k [03:02&lt;00:00, 2.39kB/s]",
            "_view_count": null,
            "_view_module_version": "1.5.0",
            "description_tooltip": null,
            "_model_module": "@jupyter-widgets/controls",
            "layout": "IPY_MODEL_58358711f5eb4db78c9102df19121c6c"
          }
        },
        "885c9d1ef0aa489ba1b6f18de90b0821": {
          "model_module": "@jupyter-widgets/controls",
          "model_name": "ProgressStyleModel",
          "state": {
            "_view_name": "StyleView",
            "_model_name": "ProgressStyleModel",
            "description_width": "initial",
            "_view_module": "@jupyter-widgets/base",
            "_model_module_version": "1.5.0",
            "_view_count": null,
            "_view_module_version": "1.2.0",
            "bar_color": null,
            "_model_module": "@jupyter-widgets/controls"
          }
        },
        "6599c2f07822440bba5f0cf27212ff43": {
          "model_module": "@jupyter-widgets/base",
          "model_name": "LayoutModel",
          "state": {
            "_view_name": "LayoutView",
            "grid_template_rows": null,
            "right": null,
            "justify_content": null,
            "_view_module": "@jupyter-widgets/base",
            "overflow": null,
            "_model_module_version": "1.2.0",
            "_view_count": null,
            "flex_flow": null,
            "width": null,
            "min_width": null,
            "border": null,
            "align_items": null,
            "bottom": null,
            "_model_module": "@jupyter-widgets/base",
            "top": null,
            "grid_column": null,
            "overflow_y": null,
            "overflow_x": null,
            "grid_auto_flow": null,
            "grid_area": null,
            "grid_template_columns": null,
            "flex": null,
            "_model_name": "LayoutModel",
            "justify_items": null,
            "grid_row": null,
            "max_height": null,
            "align_content": null,
            "visibility": null,
            "align_self": null,
            "height": null,
            "min_height": null,
            "padding": null,
            "grid_auto_rows": null,
            "grid_gap": null,
            "max_width": null,
            "order": null,
            "_view_module_version": "1.2.0",
            "grid_template_areas": null,
            "object_position": null,
            "object_fit": null,
            "grid_auto_columns": null,
            "margin": null,
            "display": null,
            "left": null
          }
        },
        "f0fb3e3266be4953977da970e6d137b0": {
          "model_module": "@jupyter-widgets/controls",
          "model_name": "DescriptionStyleModel",
          "state": {
            "_view_name": "StyleView",
            "_model_name": "DescriptionStyleModel",
            "description_width": "",
            "_view_module": "@jupyter-widgets/base",
            "_model_module_version": "1.5.0",
            "_view_count": null,
            "_view_module_version": "1.2.0",
            "_model_module": "@jupyter-widgets/controls"
          }
        },
        "58358711f5eb4db78c9102df19121c6c": {
          "model_module": "@jupyter-widgets/base",
          "model_name": "LayoutModel",
          "state": {
            "_view_name": "LayoutView",
            "grid_template_rows": null,
            "right": null,
            "justify_content": null,
            "_view_module": "@jupyter-widgets/base",
            "overflow": null,
            "_model_module_version": "1.2.0",
            "_view_count": null,
            "flex_flow": null,
            "width": null,
            "min_width": null,
            "border": null,
            "align_items": null,
            "bottom": null,
            "_model_module": "@jupyter-widgets/base",
            "top": null,
            "grid_column": null,
            "overflow_y": null,
            "overflow_x": null,
            "grid_auto_flow": null,
            "grid_area": null,
            "grid_template_columns": null,
            "flex": null,
            "_model_name": "LayoutModel",
            "justify_items": null,
            "grid_row": null,
            "max_height": null,
            "align_content": null,
            "visibility": null,
            "align_self": null,
            "height": null,
            "min_height": null,
            "padding": null,
            "grid_auto_rows": null,
            "grid_gap": null,
            "max_width": null,
            "order": null,
            "_view_module_version": "1.2.0",
            "grid_template_areas": null,
            "object_position": null,
            "object_fit": null,
            "grid_auto_columns": null,
            "margin": null,
            "display": null,
            "left": null
          }
        },
        "11929e2f0dfc477294f4d043b228a959": {
          "model_module": "@jupyter-widgets/controls",
          "model_name": "HBoxModel",
          "state": {
            "_view_name": "HBoxView",
            "_dom_classes": [],
            "_model_name": "HBoxModel",
            "_view_module": "@jupyter-widgets/controls",
            "_model_module_version": "1.5.0",
            "_view_count": null,
            "_view_module_version": "1.5.0",
            "box_style": "",
            "layout": "IPY_MODEL_66f0e65de3d94666b3387f1db47d0263",
            "_model_module": "@jupyter-widgets/controls",
            "children": [
              "IPY_MODEL_ae5694bc5fea4463a952b10611152e4b",
              "IPY_MODEL_62fee2b09e834d64937c608f3211b0c7"
            ]
          }
        },
        "66f0e65de3d94666b3387f1db47d0263": {
          "model_module": "@jupyter-widgets/base",
          "model_name": "LayoutModel",
          "state": {
            "_view_name": "LayoutView",
            "grid_template_rows": null,
            "right": null,
            "justify_content": null,
            "_view_module": "@jupyter-widgets/base",
            "overflow": null,
            "_model_module_version": "1.2.0",
            "_view_count": null,
            "flex_flow": null,
            "width": null,
            "min_width": null,
            "border": null,
            "align_items": null,
            "bottom": null,
            "_model_module": "@jupyter-widgets/base",
            "top": null,
            "grid_column": null,
            "overflow_y": null,
            "overflow_x": null,
            "grid_auto_flow": null,
            "grid_area": null,
            "grid_template_columns": null,
            "flex": null,
            "_model_name": "LayoutModel",
            "justify_items": null,
            "grid_row": null,
            "max_height": null,
            "align_content": null,
            "visibility": null,
            "align_self": null,
            "height": null,
            "min_height": null,
            "padding": null,
            "grid_auto_rows": null,
            "grid_gap": null,
            "max_width": null,
            "order": null,
            "_view_module_version": "1.2.0",
            "grid_template_areas": null,
            "object_position": null,
            "object_fit": null,
            "grid_auto_columns": null,
            "margin": null,
            "display": null,
            "left": null
          }
        },
        "ae5694bc5fea4463a952b10611152e4b": {
          "model_module": "@jupyter-widgets/controls",
          "model_name": "FloatProgressModel",
          "state": {
            "_view_name": "ProgressView",
            "style": "IPY_MODEL_0013547706204ea0a758da349e84ae4b",
            "_dom_classes": [],
            "description": "Downloading: 100%",
            "_model_name": "FloatProgressModel",
            "bar_style": "success",
            "max": 29,
            "_view_module": "@jupyter-widgets/controls",
            "_model_module_version": "1.5.0",
            "value": 29,
            "_view_count": null,
            "_view_module_version": "1.5.0",
            "orientation": "horizontal",
            "min": 0,
            "description_tooltip": null,
            "_model_module": "@jupyter-widgets/controls",
            "layout": "IPY_MODEL_e450477e7d90475a9240e45397dbd606"
          }
        },
        "62fee2b09e834d64937c608f3211b0c7": {
          "model_module": "@jupyter-widgets/controls",
          "model_name": "HTMLModel",
          "state": {
            "_view_name": "HTMLView",
            "style": "IPY_MODEL_71238bcdc89b4815a6b5f9d860f40bfd",
            "_dom_classes": [],
            "description": "",
            "_model_name": "HTMLModel",
            "placeholder": "​",
            "_view_module": "@jupyter-widgets/controls",
            "_model_module_version": "1.5.0",
            "value": " 29.0/29.0 [02:59&lt;00:00, 6.18s/B]",
            "_view_count": null,
            "_view_module_version": "1.5.0",
            "description_tooltip": null,
            "_model_module": "@jupyter-widgets/controls",
            "layout": "IPY_MODEL_dd8da145bc2c45b78ff4956508ca4158"
          }
        },
        "0013547706204ea0a758da349e84ae4b": {
          "model_module": "@jupyter-widgets/controls",
          "model_name": "ProgressStyleModel",
          "state": {
            "_view_name": "StyleView",
            "_model_name": "ProgressStyleModel",
            "description_width": "initial",
            "_view_module": "@jupyter-widgets/base",
            "_model_module_version": "1.5.0",
            "_view_count": null,
            "_view_module_version": "1.2.0",
            "bar_color": null,
            "_model_module": "@jupyter-widgets/controls"
          }
        },
        "e450477e7d90475a9240e45397dbd606": {
          "model_module": "@jupyter-widgets/base",
          "model_name": "LayoutModel",
          "state": {
            "_view_name": "LayoutView",
            "grid_template_rows": null,
            "right": null,
            "justify_content": null,
            "_view_module": "@jupyter-widgets/base",
            "overflow": null,
            "_model_module_version": "1.2.0",
            "_view_count": null,
            "flex_flow": null,
            "width": null,
            "min_width": null,
            "border": null,
            "align_items": null,
            "bottom": null,
            "_model_module": "@jupyter-widgets/base",
            "top": null,
            "grid_column": null,
            "overflow_y": null,
            "overflow_x": null,
            "grid_auto_flow": null,
            "grid_area": null,
            "grid_template_columns": null,
            "flex": null,
            "_model_name": "LayoutModel",
            "justify_items": null,
            "grid_row": null,
            "max_height": null,
            "align_content": null,
            "visibility": null,
            "align_self": null,
            "height": null,
            "min_height": null,
            "padding": null,
            "grid_auto_rows": null,
            "grid_gap": null,
            "max_width": null,
            "order": null,
            "_view_module_version": "1.2.0",
            "grid_template_areas": null,
            "object_position": null,
            "object_fit": null,
            "grid_auto_columns": null,
            "margin": null,
            "display": null,
            "left": null
          }
        },
        "71238bcdc89b4815a6b5f9d860f40bfd": {
          "model_module": "@jupyter-widgets/controls",
          "model_name": "DescriptionStyleModel",
          "state": {
            "_view_name": "StyleView",
            "_model_name": "DescriptionStyleModel",
            "description_width": "",
            "_view_module": "@jupyter-widgets/base",
            "_model_module_version": "1.5.0",
            "_view_count": null,
            "_view_module_version": "1.2.0",
            "_model_module": "@jupyter-widgets/controls"
          }
        },
        "dd8da145bc2c45b78ff4956508ca4158": {
          "model_module": "@jupyter-widgets/base",
          "model_name": "LayoutModel",
          "state": {
            "_view_name": "LayoutView",
            "grid_template_rows": null,
            "right": null,
            "justify_content": null,
            "_view_module": "@jupyter-widgets/base",
            "overflow": null,
            "_model_module_version": "1.2.0",
            "_view_count": null,
            "flex_flow": null,
            "width": null,
            "min_width": null,
            "border": null,
            "align_items": null,
            "bottom": null,
            "_model_module": "@jupyter-widgets/base",
            "top": null,
            "grid_column": null,
            "overflow_y": null,
            "overflow_x": null,
            "grid_auto_flow": null,
            "grid_area": null,
            "grid_template_columns": null,
            "flex": null,
            "_model_name": "LayoutModel",
            "justify_items": null,
            "grid_row": null,
            "max_height": null,
            "align_content": null,
            "visibility": null,
            "align_self": null,
            "height": null,
            "min_height": null,
            "padding": null,
            "grid_auto_rows": null,
            "grid_gap": null,
            "max_width": null,
            "order": null,
            "_view_module_version": "1.2.0",
            "grid_template_areas": null,
            "object_position": null,
            "object_fit": null,
            "grid_auto_columns": null,
            "margin": null,
            "display": null,
            "left": null
          }
        }
      }
    }
  },
  "cells": [
    {
      "cell_type": "code",
      "metadata": {
        "colab": {
          "base_uri": "https://localhost:8080/"
        },
        "id": "0hSd3EsLH1z3",
        "outputId": "b5230d34-913c-446f-e360-d8c2c9984724"
      },
      "source": [
        "!pip install rouge --quiet\n",
        "!pip install transformers --quiet"
      ],
      "execution_count": null,
      "outputs": [
        {
          "output_type": "stream",
          "text": [
            "\u001b[K     |████████████████████████████████| 2.2MB 10.1MB/s \n",
            "\u001b[K     |████████████████████████████████| 870kB 43.6MB/s \n",
            "\u001b[K     |████████████████████████████████| 3.3MB 41.3MB/s \n",
            "\u001b[?25h  Building wheel for sacremoses (setup.py) ... \u001b[?25l\u001b[?25hdone\n"
          ],
          "name": "stdout"
        }
      ]
    },
    {
      "cell_type": "code",
      "metadata": {
        "colab": {
          "base_uri": "https://localhost:8080/"
        },
        "id": "W8ANDY3SH7rm",
        "outputId": "25659db0-f67a-4d04-f5b4-f8ae63b69684"
      },
      "source": [
        "import re\n",
        "import json\n",
        "import numpy as np\n",
        "import pandas as pd\n",
        "\n",
        "from rouge import Rouge \n",
        "from tqdm import tqdm_notebook\n",
        "\n",
        "import torch\n",
        "import torch.nn as nn\n",
        "import torch.optim as optim\n",
        "import torch.nn.functional as F\n",
        "from torch.autograd import Variable\n",
        "from torch.utils.data import Dataset, DataLoader\n",
        "from torch.utils.data import Dataset, DataLoader, RandomSampler, SequentialSampler\n",
        "from transformers import EncoderDecoderModel, AutoTokenizer, Seq2SeqTrainingArguments, Seq2SeqTrainer, EarlyStoppingCallback\n",
        "\n",
        "from sklearn.model_selection import train_test_split\n",
        "\n",
        "print(\"GPU Torch Available = {}\".format(torch.cuda.is_available()))\n",
        "print(\"Torch Version = {}\".format(torch.__version__))"
      ],
      "execution_count": null,
      "outputs": [
        {
          "output_type": "stream",
          "text": [
            "GPU Torch Available = True\n",
            "Torch Version = 1.8.1+cu101\n"
          ],
          "name": "stdout"
        }
      ]
    },
    {
      "cell_type": "markdown",
      "metadata": {
        "id": "qNniwJ_QpThS"
      },
      "source": [
        "#### **Encoder Decoder Model**"
      ]
    },
    {
      "cell_type": "code",
      "metadata": {
        "colab": {
          "base_uri": "https://localhost:8080/",
          "height": 371,
          "referenced_widgets": [
            "a98c66446b3f4618aa80cc86d290c11f",
            "948b59ba5934459da89cc902435caa9e",
            "e3bd1bfaa31e47769c863a7aacf247ca",
            "87607fb3e1544b928c9215739d28e465",
            "38d4132fe43d4e9aa0948e648993fd89",
            "00b4ad8eec3948c3b2b8e7fe954d1c68",
            "9a054e43453749ab8e87aae649080aeb",
            "147a0598644d467580e8c752bf0d64a8",
            "efdf136d82844e748951cfd2305a7eb1",
            "a2cd632451d64431a5aa0bf3984b500c",
            "65702592d7ce416a96267554c9e79ddd",
            "471d62b0461b490097e75a278bad16ce",
            "48a6d672bcc841cbb46786c720d2e690",
            "510babcd29d14fe9907cc7329cb8fc03",
            "cfbc43e5385941a28f0bba50139327a4",
            "8d72e63e8ab743d8ba6c4acd1d7999aa",
            "861530b73bec4c169bd001c5edef63c8",
            "ed8aab835dab4e58838ecd108136440c",
            "b7895472644841d09e4231bf8891d54c",
            "15053d7e659049d590443a1e9d62127f",
            "cc25fa98ad0d496f8a8925850e876da1",
            "19e6991cb1d9457b9318e048fc7e7b45",
            "1a8afcf0217b42abaf87d4f5157dcfa5",
            "95b593f03818431194635b882bbb0344",
            "494a96b6f7a04607a14732963b3213e9",
            "9d84d3e2821a4788a8364b4a17e2d505",
            "2aac663194c5430eb0719bf587a36484",
            "3c210c85187049268c0682e72be16776",
            "885c9d1ef0aa489ba1b6f18de90b0821",
            "6599c2f07822440bba5f0cf27212ff43",
            "f0fb3e3266be4953977da970e6d137b0",
            "58358711f5eb4db78c9102df19121c6c",
            "11929e2f0dfc477294f4d043b228a959",
            "66f0e65de3d94666b3387f1db47d0263",
            "ae5694bc5fea4463a952b10611152e4b",
            "62fee2b09e834d64937c608f3211b0c7",
            "0013547706204ea0a758da349e84ae4b",
            "e450477e7d90475a9240e45397dbd606",
            "71238bcdc89b4815a6b5f9d860f40bfd",
            "dd8da145bc2c45b78ff4956508ca4158"
          ]
        },
        "id": "JPT_jV31IV9n",
        "outputId": "64888a38-63b1-41dc-a317-93f2a0b53389"
      },
      "source": [
        "# Model Selection\n",
        "\n",
        "# Regular Models\n",
        "bert_base_cased = 'bert-base-cased'\n",
        "roberta_base = 'roberta-base'\n",
        "gpt2 = 'gpt2'\n",
        "electra = 'google/electra-small-discriminator'\n",
        "t5_base = 't5-base'\n",
        "bart = 'facebook/bart-base'\n",
        "\n",
        "# Heavy Memory Dependant Models (For High RAM and High GPU Systems)\n",
        "bert_large_cased = 'bert-large-cased'\n",
        "roberta_large = 'roberta-large'\n",
        "gpt2_medium = 'gpt2-medium'\n",
        "t5_large = 't5-large'\n",
        "bart_large = 'facebook/bart-large'\n",
        "\n",
        "# Select Pretrained Weights\n",
        "Pretrained_Weight = bert_large_cased                  # Select Pretrained Weights\n",
        "\n",
        "# Encoder-Decoder\n",
        "seq2seq = EncoderDecoderModel.from_encoder_decoder_pretrained(Pretrained_Weight, Pretrained_Weight)\n",
        "\n",
        "# Tokenizer\n",
        "tokenizer = AutoTokenizer.from_pretrained(Pretrained_Weight)\n",
        "\n",
        "# Set Special Tokens\n",
        "seq2seq.config.decoder_start_token_id = tokenizer.bos_token_id\n",
        "seq2seq.config.eos_token_id = tokenizer.eos_token_id\n",
        "seq2seq.config.pad_token_id = tokenizer.pad_token_id\n",
        "\n",
        "# Parameters for Beam Search\n",
        "seq2seq.config.vocab_size = seq2seq.config.decoder.vocab_size\n",
        "seq2seq.config.max_length = 142\n",
        "seq2seq.config.min_length = 56\n",
        "seq2seq.config.no_repeat_ngram_size = 3\n",
        "seq2seq.config.early_stopping = True\n",
        "seq2seq.config.length_penalty = 2.0\n",
        "seq2seq.config.num_beams = 4"
      ],
      "execution_count": null,
      "outputs": [
        {
          "output_type": "display_data",
          "data": {
            "application/vnd.jupyter.widget-view+json": {
              "model_id": "a98c66446b3f4618aa80cc86d290c11f",
              "version_minor": 0,
              "version_major": 2
            },
            "text/plain": [
              "HBox(children=(FloatProgress(value=0.0, description='Downloading', max=625.0, style=ProgressStyle(description_…"
            ]
          },
          "metadata": {
            "tags": []
          }
        },
        {
          "output_type": "stream",
          "text": [
            "\n"
          ],
          "name": "stdout"
        },
        {
          "output_type": "display_data",
          "data": {
            "application/vnd.jupyter.widget-view+json": {
              "model_id": "efdf136d82844e748951cfd2305a7eb1",
              "version_minor": 0,
              "version_major": 2
            },
            "text/plain": [
              "HBox(children=(FloatProgress(value=0.0, description='Downloading', max=1338740706.0, style=ProgressStyle(descr…"
            ]
          },
          "metadata": {
            "tags": []
          }
        },
        {
          "output_type": "stream",
          "text": [
            "\n"
          ],
          "name": "stdout"
        },
        {
          "output_type": "stream",
          "text": [
            "Some weights of the model checkpoint at bert-large-cased were not used when initializing BertLMHeadModel: ['cls.seq_relationship.weight', 'cls.seq_relationship.bias']\n",
            "- This IS expected if you are initializing BertLMHeadModel from the checkpoint of a model trained on another task or with another architecture (e.g. initializing a BertForSequenceClassification model from a BertForPreTraining model).\n",
            "- This IS NOT expected if you are initializing BertLMHeadModel from the checkpoint of a model that you expect to be exactly identical (initializing a BertForSequenceClassification model from a BertForSequenceClassification model).\n",
            "Some weights of BertLMHeadModel were not initialized from the model checkpoint at bert-large-cased and are newly initialized: ['bert.encoder.layer.0.crossattention.self.query.weight', 'bert.encoder.layer.0.crossattention.self.query.bias', 'bert.encoder.layer.0.crossattention.self.key.weight', 'bert.encoder.layer.0.crossattention.self.key.bias', 'bert.encoder.layer.0.crossattention.self.value.weight', 'bert.encoder.layer.0.crossattention.self.value.bias', 'bert.encoder.layer.0.crossattention.output.dense.weight', 'bert.encoder.layer.0.crossattention.output.dense.bias', 'bert.encoder.layer.0.crossattention.output.LayerNorm.weight', 'bert.encoder.layer.0.crossattention.output.LayerNorm.bias', 'bert.encoder.layer.1.crossattention.self.query.weight', 'bert.encoder.layer.1.crossattention.self.query.bias', 'bert.encoder.layer.1.crossattention.self.key.weight', 'bert.encoder.layer.1.crossattention.self.key.bias', 'bert.encoder.layer.1.crossattention.self.value.weight', 'bert.encoder.layer.1.crossattention.self.value.bias', 'bert.encoder.layer.1.crossattention.output.dense.weight', 'bert.encoder.layer.1.crossattention.output.dense.bias', 'bert.encoder.layer.1.crossattention.output.LayerNorm.weight', 'bert.encoder.layer.1.crossattention.output.LayerNorm.bias', 'bert.encoder.layer.2.crossattention.self.query.weight', 'bert.encoder.layer.2.crossattention.self.query.bias', 'bert.encoder.layer.2.crossattention.self.key.weight', 'bert.encoder.layer.2.crossattention.self.key.bias', 'bert.encoder.layer.2.crossattention.self.value.weight', 'bert.encoder.layer.2.crossattention.self.value.bias', 'bert.encoder.layer.2.crossattention.output.dense.weight', 'bert.encoder.layer.2.crossattention.output.dense.bias', 'bert.encoder.layer.2.crossattention.output.LayerNorm.weight', 'bert.encoder.layer.2.crossattention.output.LayerNorm.bias', 'bert.encoder.layer.3.crossattention.self.query.weight', 'bert.encoder.layer.3.crossattention.self.query.bias', 'bert.encoder.layer.3.crossattention.self.key.weight', 'bert.encoder.layer.3.crossattention.self.key.bias', 'bert.encoder.layer.3.crossattention.self.value.weight', 'bert.encoder.layer.3.crossattention.self.value.bias', 'bert.encoder.layer.3.crossattention.output.dense.weight', 'bert.encoder.layer.3.crossattention.output.dense.bias', 'bert.encoder.layer.3.crossattention.output.LayerNorm.weight', 'bert.encoder.layer.3.crossattention.output.LayerNorm.bias', 'bert.encoder.layer.4.crossattention.self.query.weight', 'bert.encoder.layer.4.crossattention.self.query.bias', 'bert.encoder.layer.4.crossattention.self.key.weight', 'bert.encoder.layer.4.crossattention.self.key.bias', 'bert.encoder.layer.4.crossattention.self.value.weight', 'bert.encoder.layer.4.crossattention.self.value.bias', 'bert.encoder.layer.4.crossattention.output.dense.weight', 'bert.encoder.layer.4.crossattention.output.dense.bias', 'bert.encoder.layer.4.crossattention.output.LayerNorm.weight', 'bert.encoder.layer.4.crossattention.output.LayerNorm.bias', 'bert.encoder.layer.5.crossattention.self.query.weight', 'bert.encoder.layer.5.crossattention.self.query.bias', 'bert.encoder.layer.5.crossattention.self.key.weight', 'bert.encoder.layer.5.crossattention.self.key.bias', 'bert.encoder.layer.5.crossattention.self.value.weight', 'bert.encoder.layer.5.crossattention.self.value.bias', 'bert.encoder.layer.5.crossattention.output.dense.weight', 'bert.encoder.layer.5.crossattention.output.dense.bias', 'bert.encoder.layer.5.crossattention.output.LayerNorm.weight', 'bert.encoder.layer.5.crossattention.output.LayerNorm.bias', 'bert.encoder.layer.6.crossattention.self.query.weight', 'bert.encoder.layer.6.crossattention.self.query.bias', 'bert.encoder.layer.6.crossattention.self.key.weight', 'bert.encoder.layer.6.crossattention.self.key.bias', 'bert.encoder.layer.6.crossattention.self.value.weight', 'bert.encoder.layer.6.crossattention.self.value.bias', 'bert.encoder.layer.6.crossattention.output.dense.weight', 'bert.encoder.layer.6.crossattention.output.dense.bias', 'bert.encoder.layer.6.crossattention.output.LayerNorm.weight', 'bert.encoder.layer.6.crossattention.output.LayerNorm.bias', 'bert.encoder.layer.7.crossattention.self.query.weight', 'bert.encoder.layer.7.crossattention.self.query.bias', 'bert.encoder.layer.7.crossattention.self.key.weight', 'bert.encoder.layer.7.crossattention.self.key.bias', 'bert.encoder.layer.7.crossattention.self.value.weight', 'bert.encoder.layer.7.crossattention.self.value.bias', 'bert.encoder.layer.7.crossattention.output.dense.weight', 'bert.encoder.layer.7.crossattention.output.dense.bias', 'bert.encoder.layer.7.crossattention.output.LayerNorm.weight', 'bert.encoder.layer.7.crossattention.output.LayerNorm.bias', 'bert.encoder.layer.8.crossattention.self.query.weight', 'bert.encoder.layer.8.crossattention.self.query.bias', 'bert.encoder.layer.8.crossattention.self.key.weight', 'bert.encoder.layer.8.crossattention.self.key.bias', 'bert.encoder.layer.8.crossattention.self.value.weight', 'bert.encoder.layer.8.crossattention.self.value.bias', 'bert.encoder.layer.8.crossattention.output.dense.weight', 'bert.encoder.layer.8.crossattention.output.dense.bias', 'bert.encoder.layer.8.crossattention.output.LayerNorm.weight', 'bert.encoder.layer.8.crossattention.output.LayerNorm.bias', 'bert.encoder.layer.9.crossattention.self.query.weight', 'bert.encoder.layer.9.crossattention.self.query.bias', 'bert.encoder.layer.9.crossattention.self.key.weight', 'bert.encoder.layer.9.crossattention.self.key.bias', 'bert.encoder.layer.9.crossattention.self.value.weight', 'bert.encoder.layer.9.crossattention.self.value.bias', 'bert.encoder.layer.9.crossattention.output.dense.weight', 'bert.encoder.layer.9.crossattention.output.dense.bias', 'bert.encoder.layer.9.crossattention.output.LayerNorm.weight', 'bert.encoder.layer.9.crossattention.output.LayerNorm.bias', 'bert.encoder.layer.10.crossattention.self.query.weight', 'bert.encoder.layer.10.crossattention.self.query.bias', 'bert.encoder.layer.10.crossattention.self.key.weight', 'bert.encoder.layer.10.crossattention.self.key.bias', 'bert.encoder.layer.10.crossattention.self.value.weight', 'bert.encoder.layer.10.crossattention.self.value.bias', 'bert.encoder.layer.10.crossattention.output.dense.weight', 'bert.encoder.layer.10.crossattention.output.dense.bias', 'bert.encoder.layer.10.crossattention.output.LayerNorm.weight', 'bert.encoder.layer.10.crossattention.output.LayerNorm.bias', 'bert.encoder.layer.11.crossattention.self.query.weight', 'bert.encoder.layer.11.crossattention.self.query.bias', 'bert.encoder.layer.11.crossattention.self.key.weight', 'bert.encoder.layer.11.crossattention.self.key.bias', 'bert.encoder.layer.11.crossattention.self.value.weight', 'bert.encoder.layer.11.crossattention.self.value.bias', 'bert.encoder.layer.11.crossattention.output.dense.weight', 'bert.encoder.layer.11.crossattention.output.dense.bias', 'bert.encoder.layer.11.crossattention.output.LayerNorm.weight', 'bert.encoder.layer.11.crossattention.output.LayerNorm.bias', 'bert.encoder.layer.12.crossattention.self.query.weight', 'bert.encoder.layer.12.crossattention.self.query.bias', 'bert.encoder.layer.12.crossattention.self.key.weight', 'bert.encoder.layer.12.crossattention.self.key.bias', 'bert.encoder.layer.12.crossattention.self.value.weight', 'bert.encoder.layer.12.crossattention.self.value.bias', 'bert.encoder.layer.12.crossattention.output.dense.weight', 'bert.encoder.layer.12.crossattention.output.dense.bias', 'bert.encoder.layer.12.crossattention.output.LayerNorm.weight', 'bert.encoder.layer.12.crossattention.output.LayerNorm.bias', 'bert.encoder.layer.13.crossattention.self.query.weight', 'bert.encoder.layer.13.crossattention.self.query.bias', 'bert.encoder.layer.13.crossattention.self.key.weight', 'bert.encoder.layer.13.crossattention.self.key.bias', 'bert.encoder.layer.13.crossattention.self.value.weight', 'bert.encoder.layer.13.crossattention.self.value.bias', 'bert.encoder.layer.13.crossattention.output.dense.weight', 'bert.encoder.layer.13.crossattention.output.dense.bias', 'bert.encoder.layer.13.crossattention.output.LayerNorm.weight', 'bert.encoder.layer.13.crossattention.output.LayerNorm.bias', 'bert.encoder.layer.14.crossattention.self.query.weight', 'bert.encoder.layer.14.crossattention.self.query.bias', 'bert.encoder.layer.14.crossattention.self.key.weight', 'bert.encoder.layer.14.crossattention.self.key.bias', 'bert.encoder.layer.14.crossattention.self.value.weight', 'bert.encoder.layer.14.crossattention.self.value.bias', 'bert.encoder.layer.14.crossattention.output.dense.weight', 'bert.encoder.layer.14.crossattention.output.dense.bias', 'bert.encoder.layer.14.crossattention.output.LayerNorm.weight', 'bert.encoder.layer.14.crossattention.output.LayerNorm.bias', 'bert.encoder.layer.15.crossattention.self.query.weight', 'bert.encoder.layer.15.crossattention.self.query.bias', 'bert.encoder.layer.15.crossattention.self.key.weight', 'bert.encoder.layer.15.crossattention.self.key.bias', 'bert.encoder.layer.15.crossattention.self.value.weight', 'bert.encoder.layer.15.crossattention.self.value.bias', 'bert.encoder.layer.15.crossattention.output.dense.weight', 'bert.encoder.layer.15.crossattention.output.dense.bias', 'bert.encoder.layer.15.crossattention.output.LayerNorm.weight', 'bert.encoder.layer.15.crossattention.output.LayerNorm.bias', 'bert.encoder.layer.16.crossattention.self.query.weight', 'bert.encoder.layer.16.crossattention.self.query.bias', 'bert.encoder.layer.16.crossattention.self.key.weight', 'bert.encoder.layer.16.crossattention.self.key.bias', 'bert.encoder.layer.16.crossattention.self.value.weight', 'bert.encoder.layer.16.crossattention.self.value.bias', 'bert.encoder.layer.16.crossattention.output.dense.weight', 'bert.encoder.layer.16.crossattention.output.dense.bias', 'bert.encoder.layer.16.crossattention.output.LayerNorm.weight', 'bert.encoder.layer.16.crossattention.output.LayerNorm.bias', 'bert.encoder.layer.17.crossattention.self.query.weight', 'bert.encoder.layer.17.crossattention.self.query.bias', 'bert.encoder.layer.17.crossattention.self.key.weight', 'bert.encoder.layer.17.crossattention.self.key.bias', 'bert.encoder.layer.17.crossattention.self.value.weight', 'bert.encoder.layer.17.crossattention.self.value.bias', 'bert.encoder.layer.17.crossattention.output.dense.weight', 'bert.encoder.layer.17.crossattention.output.dense.bias', 'bert.encoder.layer.17.crossattention.output.LayerNorm.weight', 'bert.encoder.layer.17.crossattention.output.LayerNorm.bias', 'bert.encoder.layer.18.crossattention.self.query.weight', 'bert.encoder.layer.18.crossattention.self.query.bias', 'bert.encoder.layer.18.crossattention.self.key.weight', 'bert.encoder.layer.18.crossattention.self.key.bias', 'bert.encoder.layer.18.crossattention.self.value.weight', 'bert.encoder.layer.18.crossattention.self.value.bias', 'bert.encoder.layer.18.crossattention.output.dense.weight', 'bert.encoder.layer.18.crossattention.output.dense.bias', 'bert.encoder.layer.18.crossattention.output.LayerNorm.weight', 'bert.encoder.layer.18.crossattention.output.LayerNorm.bias', 'bert.encoder.layer.19.crossattention.self.query.weight', 'bert.encoder.layer.19.crossattention.self.query.bias', 'bert.encoder.layer.19.crossattention.self.key.weight', 'bert.encoder.layer.19.crossattention.self.key.bias', 'bert.encoder.layer.19.crossattention.self.value.weight', 'bert.encoder.layer.19.crossattention.self.value.bias', 'bert.encoder.layer.19.crossattention.output.dense.weight', 'bert.encoder.layer.19.crossattention.output.dense.bias', 'bert.encoder.layer.19.crossattention.output.LayerNorm.weight', 'bert.encoder.layer.19.crossattention.output.LayerNorm.bias', 'bert.encoder.layer.20.crossattention.self.query.weight', 'bert.encoder.layer.20.crossattention.self.query.bias', 'bert.encoder.layer.20.crossattention.self.key.weight', 'bert.encoder.layer.20.crossattention.self.key.bias', 'bert.encoder.layer.20.crossattention.self.value.weight', 'bert.encoder.layer.20.crossattention.self.value.bias', 'bert.encoder.layer.20.crossattention.output.dense.weight', 'bert.encoder.layer.20.crossattention.output.dense.bias', 'bert.encoder.layer.20.crossattention.output.LayerNorm.weight', 'bert.encoder.layer.20.crossattention.output.LayerNorm.bias', 'bert.encoder.layer.21.crossattention.self.query.weight', 'bert.encoder.layer.21.crossattention.self.query.bias', 'bert.encoder.layer.21.crossattention.self.key.weight', 'bert.encoder.layer.21.crossattention.self.key.bias', 'bert.encoder.layer.21.crossattention.self.value.weight', 'bert.encoder.layer.21.crossattention.self.value.bias', 'bert.encoder.layer.21.crossattention.output.dense.weight', 'bert.encoder.layer.21.crossattention.output.dense.bias', 'bert.encoder.layer.21.crossattention.output.LayerNorm.weight', 'bert.encoder.layer.21.crossattention.output.LayerNorm.bias', 'bert.encoder.layer.22.crossattention.self.query.weight', 'bert.encoder.layer.22.crossattention.self.query.bias', 'bert.encoder.layer.22.crossattention.self.key.weight', 'bert.encoder.layer.22.crossattention.self.key.bias', 'bert.encoder.layer.22.crossattention.self.value.weight', 'bert.encoder.layer.22.crossattention.self.value.bias', 'bert.encoder.layer.22.crossattention.output.dense.weight', 'bert.encoder.layer.22.crossattention.output.dense.bias', 'bert.encoder.layer.22.crossattention.output.LayerNorm.weight', 'bert.encoder.layer.22.crossattention.output.LayerNorm.bias', 'bert.encoder.layer.23.crossattention.self.query.weight', 'bert.encoder.layer.23.crossattention.self.query.bias', 'bert.encoder.layer.23.crossattention.self.key.weight', 'bert.encoder.layer.23.crossattention.self.key.bias', 'bert.encoder.layer.23.crossattention.self.value.weight', 'bert.encoder.layer.23.crossattention.self.value.bias', 'bert.encoder.layer.23.crossattention.output.dense.weight', 'bert.encoder.layer.23.crossattention.output.dense.bias', 'bert.encoder.layer.23.crossattention.output.LayerNorm.weight', 'bert.encoder.layer.23.crossattention.output.LayerNorm.bias']\n",
            "You should probably TRAIN this model on a down-stream task to be able to use it for predictions and inference.\n"
          ],
          "name": "stderr"
        },
        {
          "output_type": "display_data",
          "data": {
            "application/vnd.jupyter.widget-view+json": {
              "model_id": "861530b73bec4c169bd001c5edef63c8",
              "version_minor": 0,
              "version_major": 2
            },
            "text/plain": [
              "HBox(children=(FloatProgress(value=0.0, description='Downloading', max=213450.0, style=ProgressStyle(descripti…"
            ]
          },
          "metadata": {
            "tags": []
          }
        },
        {
          "output_type": "stream",
          "text": [
            "\n"
          ],
          "name": "stdout"
        },
        {
          "output_type": "display_data",
          "data": {
            "application/vnd.jupyter.widget-view+json": {
              "model_id": "494a96b6f7a04607a14732963b3213e9",
              "version_minor": 0,
              "version_major": 2
            },
            "text/plain": [
              "HBox(children=(FloatProgress(value=0.0, description='Downloading', max=435797.0, style=ProgressStyle(descripti…"
            ]
          },
          "metadata": {
            "tags": []
          }
        },
        {
          "output_type": "stream",
          "text": [
            "\n"
          ],
          "name": "stdout"
        },
        {
          "output_type": "display_data",
          "data": {
            "application/vnd.jupyter.widget-view+json": {
              "model_id": "11929e2f0dfc477294f4d043b228a959",
              "version_minor": 0,
              "version_major": 2
            },
            "text/plain": [
              "HBox(children=(FloatProgress(value=0.0, description='Downloading', max=29.0, style=ProgressStyle(description_w…"
            ]
          },
          "metadata": {
            "tags": []
          }
        },
        {
          "output_type": "stream",
          "text": [
            "\n"
          ],
          "name": "stdout"
        }
      ]
    },
    {
      "cell_type": "markdown",
      "metadata": {
        "id": "R7cckroxpZTY"
      },
      "source": [
        "#### **Data Loading and Preprocessing**"
      ]
    },
    {
      "cell_type": "code",
      "metadata": {
        "id": "ludOWhdjIb8l",
        "colab": {
          "base_uri": "https://localhost:8080/"
        },
        "outputId": "0dc36ece-865a-4bbc-9244-724a49a3add0"
      },
      "source": [
        "from google.colab import drive\n",
        "drive.mount('/content/drive')"
      ],
      "execution_count": null,
      "outputs": [
        {
          "output_type": "stream",
          "text": [
            "Mounted at /content/drive\n"
          ],
          "name": "stdout"
        }
      ]
    },
    {
      "cell_type": "code",
      "metadata": {
        "colab": {
          "base_uri": "https://localhost:8080/",
          "height": 415
        },
        "id": "8To6GCx3pfMS",
        "outputId": "e23ac582-9d88-4225-b563-4294b0adc8f9"
      },
      "source": [
        "# Loading Dataset\n",
        "file = '/content/drive/MyDrive/Title Generation NLP/Title Generation/Dataset_Title_Summarized_10000.xlsx' \n",
        "df = pd.read_excel(file, names = ['ID','Abstract', 'Title'])\n",
        "df = df.drop(['ID'], axis=1)\n",
        "df"
      ],
      "execution_count": null,
      "outputs": [
        {
          "output_type": "execute_result",
          "data": {
            "text/html": [
              "<div>\n",
              "<style scoped>\n",
              "    .dataframe tbody tr th:only-of-type {\n",
              "        vertical-align: middle;\n",
              "    }\n",
              "\n",
              "    .dataframe tbody tr th {\n",
              "        vertical-align: top;\n",
              "    }\n",
              "\n",
              "    .dataframe thead th {\n",
              "        text-align: right;\n",
              "    }\n",
              "</style>\n",
              "<table border=\"1\" class=\"dataframe\">\n",
              "  <thead>\n",
              "    <tr style=\"text-align: right;\">\n",
              "      <th></th>\n",
              "      <th>Abstract</th>\n",
              "      <th>Title</th>\n",
              "    </tr>\n",
              "  </thead>\n",
              "  <tbody>\n",
              "    <tr>\n",
              "      <th>0</th>\n",
              "      <td>GPs do not scale with big traffic data due to ...</td>\n",
              "      <td>Local Gaussian Processes for Efficient Fine G...</td>\n",
              "    </tr>\n",
              "    <tr>\n",
              "      <th>1</th>\n",
              "      <td>a central challenge to using first order metho...</td>\n",
              "      <td>A Generic Approach for Escaping Saddle points</td>\n",
              "    </tr>\n",
              "    <tr>\n",
              "      <th>2</th>\n",
              "      <td>automakers have in development or in productio...</td>\n",
              "      <td>Formulation of Deep Reinforcement Learning Ar...</td>\n",
              "    </tr>\n",
              "    <tr>\n",
              "      <th>3</th>\n",
              "      <td>a visual relational knowledge graph KG is a mu...</td>\n",
              "      <td>Representation Learning for Visual Relational...</td>\n",
              "    </tr>\n",
              "    <tr>\n",
              "      <th>4</th>\n",
              "      <td>se presenta un nuevo enfoque en el contexto de...</td>\n",
              "      <td>Semantic Preserving Embeddings for Generalize...</td>\n",
              "    </tr>\n",
              "    <tr>\n",
              "      <th>...</th>\n",
              "      <td>...</td>\n",
              "      <td>...</td>\n",
              "    </tr>\n",
              "    <tr>\n",
              "      <th>9995</th>\n",
              "      <td>this paper introduces SC2LE StarCraft II Learn...</td>\n",
              "      <td>StarCraft II A New Challenge for Reinforcemen...</td>\n",
              "    </tr>\n",
              "    <tr>\n",
              "      <th>9996</th>\n",
              "      <td>GGQ ID3 is a multi relational decision tree le...</td>\n",
              "      <td>Induction of Decision Trees based on Generali...</td>\n",
              "    </tr>\n",
              "    <tr>\n",
              "      <th>9997</th>\n",
              "      <td>many real world reinforcement learning problem...</td>\n",
              "      <td>Reinforcement Learning in POMDPs with Memoryl...</td>\n",
              "    </tr>\n",
              "    <tr>\n",
              "      <th>9998</th>\n",
              "      <td>the proposed anytime neural networks ANNs prod...</td>\n",
              "      <td>Anytime Neural Network a Versatile Trade off ...</td>\n",
              "    </tr>\n",
              "    <tr>\n",
              "      <th>9999</th>\n",
              "      <td>the past decade has seen a significant interes...</td>\n",
              "      <td>On Relaxing Determinism in Arithmetic Circuits</td>\n",
              "    </tr>\n",
              "  </tbody>\n",
              "</table>\n",
              "<p>10000 rows × 2 columns</p>\n",
              "</div>"
            ],
            "text/plain": [
              "                                               Abstract                                              Title\n",
              "0     GPs do not scale with big traffic data due to ...   Local Gaussian Processes for Efficient Fine G...\n",
              "1     a central challenge to using first order metho...      A Generic Approach for Escaping Saddle points\n",
              "2     automakers have in development or in productio...   Formulation of Deep Reinforcement Learning Ar...\n",
              "3     a visual relational knowledge graph KG is a mu...   Representation Learning for Visual Relational...\n",
              "4     se presenta un nuevo enfoque en el contexto de...   Semantic Preserving Embeddings for Generalize...\n",
              "...                                                 ...                                                ...\n",
              "9995  this paper introduces SC2LE StarCraft II Learn...   StarCraft II A New Challenge for Reinforcemen...\n",
              "9996  GGQ ID3 is a multi relational decision tree le...   Induction of Decision Trees based on Generali...\n",
              "9997  many real world reinforcement learning problem...   Reinforcement Learning in POMDPs with Memoryl...\n",
              "9998  the proposed anytime neural networks ANNs prod...   Anytime Neural Network a Versatile Trade off ...\n",
              "9999  the past decade has seen a significant interes...     On Relaxing Determinism in Arithmetic Circuits\n",
              "\n",
              "[10000 rows x 2 columns]"
            ]
          },
          "metadata": {
            "tags": []
          },
          "execution_count": 5
        }
      ]
    },
    {
      "cell_type": "code",
      "metadata": {
        "colab": {
          "base_uri": "https://localhost:8080/"
        },
        "id": "KHiDakpep10F",
        "outputId": "a9045a87-c56d-4f40-e963-7ac5ade54eed"
      },
      "source": [
        "# Train Test Split of Dataset\n",
        "train_df, test_df = train_test_split(df, test_size = 0.25, random_state = 42)\n",
        "print('Train Dataset Length = {}'.format(len(train_df)))\n",
        "print('Test Dataset Length  = {}'.format(len(test_df)))"
      ],
      "execution_count": null,
      "outputs": [
        {
          "output_type": "stream",
          "text": [
            "Train Dataset Length = 7500\n",
            "Test Dataset Length  = 2500\n"
          ],
          "name": "stdout"
        }
      ]
    },
    {
      "cell_type": "code",
      "metadata": {
        "colab": {
          "base_uri": "https://localhost:8080/"
        },
        "id": "e3nIrQv6p45t",
        "outputId": "f8da6d6d-e6d9-4633-d165-faee9a1e04cf"
      },
      "source": [
        "# Data Preparation into Pandas Dataframe for Model Input\n",
        "def get_data(dataframe):\n",
        "  abstract = list(dataframe['Abstract'])\n",
        "  title = list(dataframe['Title'])\n",
        "  \n",
        "  raw_data_train = {'Abstract': abstract, 'Title': title}\n",
        "  df = pd.DataFrame(raw_data_train, columns = ['Abstract','Title'])\n",
        "  return df\n",
        "\n",
        "train_data = get_data(train_df)\n",
        "test_data = get_data(test_df)\n",
        "\n",
        "print('Training Data:')\n",
        "print(train_data[0:3])\n",
        "print('\\nTesting Data:')\n",
        "print(test_data[0:3])"
      ],
      "execution_count": null,
      "outputs": [
        {
          "output_type": "stream",
          "text": [
            "Training Data:\n",
            "                                            Abstract                                              Title\n",
            "0  the paper proposes an idealistic approach for ...   Modeling State Conditional Observation Distri...\n",
            "1  we reduce this effort by generating inference ...   Composing inference algorithms as program tra...\n",
            "2  the autoencoder is trained to reconstruct the ...   Learning Multilingual Word Representations us...\n",
            "\n",
            "Testing Data:\n",
            "                                            Abstract                                              Title\n",
            "0  deep neural network is difficult to train and ...   All You Need is Beyond a Good Init Exploring ...\n",
            "1  a small set of unique phase synchronised patte...   On the Existence of Synchrostates in Multicha...\n",
            "2  most important aspect of inferring causal effe...   Causal Effect Inference with Deep Latent Vari...\n"
          ],
          "name": "stdout"
        }
      ]
    },
    {
      "cell_type": "code",
      "metadata": {
        "id": "nUZ1RIjWqdDk"
      },
      "source": [
        "# Data Preparation for Seq2Seq Model Input\n",
        "class CustomDataset(Dataset):\n",
        "    def __init__(self, dataframe, tokenizer, max_len_enc, max_len_dec):\n",
        "      self.tokenizer = tokenizer\n",
        "      self.data = dataframe\n",
        "      self.abstract = dataframe.Abstract\n",
        "      self.title = dataframe.Title\n",
        "      self.encoder_max_len = max_len_enc\n",
        "      self.decoder_max_len = max_len_dec\n",
        "        \n",
        "    def __len__(self):\n",
        "      return len(self.abstract)\n",
        "\n",
        "    def __getitem__(self, index):\n",
        "      # Abstract Tokenization\n",
        "      abstract_data = str(self.abstract[index])\n",
        "      inputs = self.tokenizer.encode_plus(abstract_data,\n",
        "                                          truncation=True,\n",
        "                                          add_special_tokens=True,\n",
        "                                          max_length = self.encoder_max_len,\n",
        "                                          padding = 'max_length',\n",
        "                                          return_token_type_ids = False)\n",
        "      input_ids = inputs['input_ids']\n",
        "      input_mask = inputs['attention_mask']\n",
        "      \n",
        "      # Title Tokenization\n",
        "      title_data = str(self.title[index])\n",
        "      outputs = self.tokenizer.encode_plus(title_data,\n",
        "                                           truncation=True,\n",
        "                                           add_special_tokens=True,\n",
        "                                           max_length = self.decoder_max_len,\n",
        "                                           padding = 'max_length',\n",
        "                                           return_token_type_ids = False)\n",
        "      output_ids = outputs['input_ids']\n",
        "      output_mask = outputs['attention_mask']\n",
        "      \n",
        "      return {'input_ids': torch.tensor(input_ids, dtype=torch.long),\n",
        "              'attention_mask': torch.tensor(input_mask, dtype=torch.long),\n",
        "              'decoder_input_ids': torch.tensor(output_ids, dtype=torch.long),\n",
        "              'decoder_attention_mask' : torch.tensor(output_mask, dtype=torch.long),\n",
        "              'labels': torch.tensor(output_ids, dtype=torch.long)}\n",
        "\n",
        "ENCODER_MAX_LEN = 256                                                                   # Encoder Max Sequence Length (Change)\n",
        "DECODER_MAX_LEN = 32                                                                    # Decoder Max Sequence Length\n",
        "\n",
        "# For GPU Memory Restrictions (Will Remove in Main Code)\n",
        "#train_size = 5000                                                                      \n",
        "#test_size = 100\n",
        "\n",
        "training_set = CustomDataset(train_data, tokenizer, ENCODER_MAX_LEN, DECODER_MAX_LEN)   # Training Set\n",
        "testing_set = CustomDataset(test_data, tokenizer, ENCODER_MAX_LEN, DECODER_MAX_LEN)     # Testing Set"
      ],
      "execution_count": null,
      "outputs": []
    },
    {
      "cell_type": "markdown",
      "metadata": {
        "id": "LxVFm382qwP0"
      },
      "source": [
        "#### **Model Training**"
      ]
    },
    {
      "cell_type": "code",
      "metadata": {
        "colab": {
          "base_uri": "https://localhost:8080/",
          "height": 309
        },
        "id": "4mZzl_yvqq3e",
        "outputId": "70137fd6-0e18-4f9c-84f6-e691caae8958"
      },
      "source": [
        "# Device Mapping Select (GPU or CPU)\n",
        "device = torch.device(\"cuda\" if torch.cuda.is_available() else \"cpu\")\n",
        "if (torch.cuda.is_available() == True):\n",
        "  print(\"Model Mapped CUDA::GPU\")\n",
        "  seq2seq = seq2seq.cuda()\n",
        "\n",
        "# Untuned Parameters (Should be Tuned)\n",
        "training_args = Seq2SeqTrainingArguments(seed = 42,\n",
        "                                         output_dir=\"./models/model_name\",\n",
        "                                         overwrite_output_dir = True,\n",
        "                                         evaluation_strategy = \"epoch\",\n",
        "                                         do_train = True,\n",
        "                                         do_eval = True,\n",
        "                                         per_device_train_batch_size = 2,\n",
        "                                         per_device_eval_batch_size = 2,\n",
        "                                         predict_with_generate = False,\n",
        "                                         num_train_epochs = 10,\n",
        "                                         logging_steps = 2,\n",
        "                                         save_steps = 0, \n",
        "                                         warmup_steps = 2,\n",
        "                                         load_best_model_at_end = True)\n",
        "\n",
        "# Early Stopping Callback Setup\n",
        "early_stop = EarlyStoppingCallback(early_stopping_threshold = 0.01)\n",
        "\n",
        "# Instantiate Seq2Seq Trainer\n",
        "trainer = Seq2SeqTrainer(model = seq2seq,\n",
        "                         callbacks = [early_stop],\n",
        "                         tokenizer = tokenizer,\n",
        "                         args = training_args,\n",
        "                         train_dataset = training_set,\n",
        "                         eval_dataset = testing_set)\n",
        "\n",
        "# Train Model\n",
        "trainer.train()"
      ],
      "execution_count": null,
      "outputs": [
        {
          "output_type": "stream",
          "text": [
            "Model Mapped CUDA::GPU\n"
          ],
          "name": "stdout"
        },
        {
          "output_type": "display_data",
          "data": {
            "text/html": [
              "\n",
              "    <div>\n",
              "        <style>\n",
              "            /* Turns off some styling */\n",
              "            progress {\n",
              "                /* gets rid of default border in Firefox and Opera. */\n",
              "                border: none;\n",
              "                /* Needs to be in here for Safari polyfill so background images work as expected. */\n",
              "                background-size: auto;\n",
              "            }\n",
              "        </style>\n",
              "      \n",
              "      <progress value='7501' max='37500' style='width:300px; height:20px; vertical-align: middle;'></progress>\n",
              "      [ 7501/37500 5:46:38 < 23:06:43, 0.36 it/s, Epoch 2/10]\n",
              "    </div>\n",
              "    <table border=\"1\" class=\"dataframe\">\n",
              "  <thead>\n",
              "    <tr style=\"text-align: left;\">\n",
              "      <th>Epoch</th>\n",
              "      <th>Training Loss</th>\n",
              "      <th>Validation Loss</th>\n",
              "      <th>Runtime</th>\n",
              "      <th>Samples Per Second</th>\n",
              "    </tr>\n",
              "  </thead>\n",
              "  <tbody>\n",
              "    <tr>\n",
              "      <td>1</td>\n",
              "      <td>3.085100</td>\n",
              "      <td>4.560835</td>\n",
              "      <td>509.281900</td>\n",
              "      <td>4.909000</td>\n",
              "    </tr>\n",
              "    <tr>\n",
              "      <td>2</td>\n",
              "      <td>3.902100</td>\n",
              "      <td>4.733779</td>\n",
              "      <td>498.801300</td>\n",
              "      <td>5.012000</td>\n",
              "    </tr>\n",
              "  </tbody>\n",
              "</table><p>"
            ],
            "text/plain": [
              "<IPython.core.display.HTML object>"
            ]
          },
          "metadata": {
            "tags": []
          }
        },
        {
          "output_type": "display_data",
          "data": {
            "text/html": [
              "\n",
              "    <div>\n",
              "        <style>\n",
              "            /* Turns off some styling */\n",
              "            progress {\n",
              "                /* gets rid of default border in Firefox and Opera. */\n",
              "                border: none;\n",
              "                /* Needs to be in here for Safari polyfill so background images work as expected. */\n",
              "                background-size: auto;\n",
              "            }\n",
              "        </style>\n",
              "      \n",
              "      <progress value='7500' max='37500' style='width:300px; height:20px; vertical-align: middle;'></progress>\n",
              "      [ 7500/37500 5:57:54 < 23:52:02, 0.35 it/s, Epoch 2/10]\n",
              "    </div>\n",
              "    <table border=\"1\" class=\"dataframe\">\n",
              "  <thead>\n",
              "    <tr style=\"text-align: left;\">\n",
              "      <th>Epoch</th>\n",
              "      <th>Training Loss</th>\n",
              "      <th>Validation Loss</th>\n",
              "      <th>Runtime</th>\n",
              "      <th>Samples Per Second</th>\n",
              "    </tr>\n",
              "  </thead>\n",
              "  <tbody>\n",
              "    <tr>\n",
              "      <td>1</td>\n",
              "      <td>3.085100</td>\n",
              "      <td>4.560835</td>\n",
              "      <td>509.281900</td>\n",
              "      <td>4.909000</td>\n",
              "    </tr>\n",
              "    <tr>\n",
              "      <td>2</td>\n",
              "      <td>3.902100</td>\n",
              "      <td>4.733779</td>\n",
              "      <td>498.801300</td>\n",
              "      <td>5.012000</td>\n",
              "    </tr>\n",
              "  </tbody>\n",
              "</table><p>"
            ],
            "text/plain": [
              "<IPython.core.display.HTML object>"
            ]
          },
          "metadata": {
            "tags": []
          }
        },
        {
          "output_type": "execute_result",
          "data": {
            "text/plain": [
              "TrainOutput(global_step=7500, training_loss=4.258297165870666, metrics={'train_runtime': 21478.4863, 'train_samples_per_second': 1.746, 'total_flos': 1.990656839808e+16, 'epoch': 2.0, 'init_mem_cpu_alloc_delta': 0, 'init_mem_gpu_alloc_delta': 0, 'init_mem_cpu_peaked_delta': 0, 'init_mem_gpu_peaked_delta': 0, 'train_mem_cpu_alloc_delta': 396685312, 'train_mem_gpu_alloc_delta': 9212246528, 'train_mem_cpu_peaked_delta': 0, 'train_mem_gpu_peaked_delta': 0})"
            ]
          },
          "metadata": {
            "tags": []
          },
          "execution_count": 11
        }
      ]
    },
    {
      "cell_type": "markdown",
      "metadata": {
        "id": "RR7UEEwRq5kc"
      },
      "source": [
        "### **Model Evalation**"
      ]
    },
    {
      "cell_type": "code",
      "metadata": {
        "id": "j2Uf3upfq3Nv",
        "colab": {
          "base_uri": "https://localhost:8080/"
        },
        "outputId": "c483e252-30fd-4c5c-a4d7-6057e619f2e8"
      },
      "source": [
        "trainer.evaluate(testing_set)"
      ],
      "execution_count": null,
      "outputs": [
        {
          "output_type": "display_data",
          "data": {
            "text/html": [
              "\n",
              "    <div>\n",
              "        <style>\n",
              "            /* Turns off some styling */\n",
              "            progress {\n",
              "                /* gets rid of default border in Firefox and Opera. */\n",
              "                border: none;\n",
              "                /* Needs to be in here for Safari polyfill so background images work as expected. */\n",
              "                background-size: auto;\n",
              "            }\n",
              "        </style>\n",
              "      \n",
              "      <progress value='1250' max='1250' style='width:300px; height:20px; vertical-align: middle;'></progress>\n",
              "      [1250/1250 08:21]\n",
              "    </div>\n",
              "    "
            ],
            "text/plain": [
              "<IPython.core.display.HTML object>"
            ]
          },
          "metadata": {
            "tags": []
          }
        },
        {
          "output_type": "execute_result",
          "data": {
            "text/plain": [
              "{'epoch': 2.0,\n",
              " 'eval_loss': 4.560834884643555,\n",
              " 'eval_mem_cpu_alloc_delta': 0,\n",
              " 'eval_mem_cpu_peaked_delta': 0,\n",
              " 'eval_mem_gpu_alloc_delta': 0,\n",
              " 'eval_mem_gpu_peaked_delta': 60844544,\n",
              " 'eval_runtime': 501.601,\n",
              " 'eval_samples_per_second': 4.984}"
            ]
          },
          "metadata": {
            "tags": []
          },
          "execution_count": 12
        }
      ]
    },
    {
      "cell_type": "markdown",
      "metadata": {
        "id": "L2J3BWj0XWdc"
      },
      "source": [
        "#### **Model Save**"
      ]
    },
    {
      "cell_type": "code",
      "metadata": {
        "id": "bCD2JTG6XZNN"
      },
      "source": [
        "# Model Save\n",
        "model_save_path = '/content/drive/MyDrive/Title Generation NLP/Model Weights/Seq2Seq_state_dict_Bert_Large_10000'\n",
        "torch.save(seq2seq.state_dict(), model_save_path + '.pth')"
      ],
      "execution_count": null,
      "outputs": []
    },
    {
      "cell_type": "markdown",
      "metadata": {
        "id": "AAYcd4X2YI2L"
      },
      "source": [
        "#### **Rouge Score Calculation**"
      ]
    },
    {
      "cell_type": "code",
      "metadata": {
        "colab": {
          "base_uri": "https://localhost:8080/"
        },
        "id": "vvodutjCYHl-",
        "outputId": "208b9a65-1bce-453a-abdd-b97fbc8fcebb"
      },
      "source": [
        "# Rouge Score Calculation\n",
        "test_size = 2500\n",
        "rouge = Rouge()\n",
        "test_index_limit = test_size                     # Test Size for GPU Constraints\n",
        "\n",
        "# Placeholders for Rouge Scores\n",
        "rouge_1_f = []\n",
        "rouge_1_p = []\n",
        "rouge_1_r = []\n",
        "\n",
        "rouge_2_f = []\n",
        "rouge_2_p = []\n",
        "rouge_2_r = []\n",
        "\n",
        "rouge_l_f = []\n",
        "rouge_l_p = []\n",
        "rouge_l_r = []\n",
        "\n",
        "# Calculation\n",
        "for i in range(test_index_limit):\n",
        "\n",
        "  # Inference \n",
        "  data = test_data['Abstract'][i]\n",
        "  input_sentence_ids = torch.tensor(tokenizer.encode(data, add_special_tokens = True)).unsqueeze(0).cuda()\n",
        "  generated = seq2seq.generate(input_sentence_ids,\n",
        "                                 max_length = 20, \n",
        "                                 decoder_start_token_id = seq2seq.config.decoder.pad_token_id)\n",
        "  if (i % 50 == 0):\n",
        "    print(\"Inferene Done for Test ID = {}\".format(i))\n",
        "  # Reference and Hypothesis for Rouge Score Calculation\n",
        "  hypothesis = tokenizer.batch_decode(generated, skip_special_tokens = True)[0]      # Predicted Title\n",
        "  reference = test_data['Title'][i]                                                  # Reference Title\n",
        "\n",
        "  # Calculating Rouge Scores\n",
        "  score = rouge.get_scores(hypothesis, reference)\n",
        "  rouge_1_f.append(score[0]['rouge-1']['f'])\n",
        "  rouge_1_p.append(score[0]['rouge-1']['p'])\n",
        "  rouge_1_r.append(score[0]['rouge-1']['r'])\n",
        "\n",
        "  rouge_2_f.append(score[0]['rouge-2']['f'])\n",
        "  rouge_2_p.append(score[0]['rouge-2']['p'])\n",
        "  rouge_2_r.append(score[0]['rouge-2']['r'])\n",
        "\n",
        "  rouge_l_f.append(score[0]['rouge-l']['f'])\n",
        "  rouge_l_p.append(score[0]['rouge-l']['p'])\n",
        "  rouge_l_r.append(score[0]['rouge-l']['r'])\n",
        "\n",
        "# Final Average Rouge Score Calculation\n",
        "rouge_1_f_val = sum(rouge_1_f)/test_size\n",
        "rouge_1_p_val = sum(rouge_1_p)/test_size\n",
        "rouge_1_r_val = sum(rouge_1_r)/test_size\n",
        "\n",
        "rouge_2_f_val = sum(rouge_2_f)/test_size\n",
        "rouge_2_p_val = sum(rouge_2_p)/test_size\n",
        "rouge_2_r_val = sum(rouge_2_r)/test_size\n",
        "\n",
        "rouge_l_f_val = sum(rouge_l_f)/test_size\n",
        "rouge_l_p_val = sum(rouge_l_p)/test_size\n",
        "rouge_l_r_val = sum(rouge_l_r)/test_size\n",
        "print('\\n Scores:')\n",
        "print('Avergae Rouge 1 F Score   : {}'.format(rouge_1_f_val))\n",
        "print('Avergae Rouge 1 Precision : {}'.format(rouge_1_p_val))\n",
        "print('Avergae Rouge 1 Recall    : {}'.format(rouge_1_r_val))\n",
        "print('\\n')\n",
        "print('Avergae Rouge 2 F Score   : {}'.format(rouge_2_f_val))\n",
        "print('Avergae Rouge 2 Precision : {}'.format(rouge_2_p_val))\n",
        "print('Avergae Rouge 2 Recall    : {}'.format(rouge_2_r_val))\n",
        "print('\\n')\n",
        "print('Avergae Rouge L F Score   : {}'.format(rouge_l_f_val))\n",
        "print('Avergae Rouge L Precision : {}'.format(rouge_l_p_val))\n",
        "print('Avergae Rouge L Recall    : {}'.format(rouge_l_r_val))"
      ],
      "execution_count": 14,
      "outputs": [
        {
          "output_type": "stream",
          "text": [
            "Inferene Done for Test ID = 0\n",
            "Inferene Done for Test ID = 50\n",
            "Inferene Done for Test ID = 100\n",
            "Inferene Done for Test ID = 150\n",
            "Inferene Done for Test ID = 200\n",
            "Inferene Done for Test ID = 250\n",
            "Inferene Done for Test ID = 300\n",
            "Inferene Done for Test ID = 350\n",
            "Inferene Done for Test ID = 400\n",
            "Inferene Done for Test ID = 450\n",
            "Inferene Done for Test ID = 500\n",
            "Inferene Done for Test ID = 550\n",
            "Inferene Done for Test ID = 600\n",
            "Inferene Done for Test ID = 650\n",
            "Inferene Done for Test ID = 700\n",
            "Inferene Done for Test ID = 750\n",
            "Inferene Done for Test ID = 800\n",
            "Inferene Done for Test ID = 850\n",
            "Inferene Done for Test ID = 900\n",
            "Inferene Done for Test ID = 950\n",
            "Inferene Done for Test ID = 1000\n",
            "Inferene Done for Test ID = 1050\n",
            "Inferene Done for Test ID = 1100\n",
            "Inferene Done for Test ID = 1150\n",
            "Inferene Done for Test ID = 1200\n",
            "Inferene Done for Test ID = 1250\n",
            "Inferene Done for Test ID = 1300\n",
            "Inferene Done for Test ID = 1350\n",
            "Inferene Done for Test ID = 1400\n",
            "Inferene Done for Test ID = 1450\n",
            "Inferene Done for Test ID = 1500\n",
            "Inferene Done for Test ID = 1550\n",
            "Inferene Done for Test ID = 1600\n",
            "Inferene Done for Test ID = 1650\n",
            "Inferene Done for Test ID = 1700\n",
            "Inferene Done for Test ID = 1750\n",
            "Inferene Done for Test ID = 1800\n",
            "Inferene Done for Test ID = 1850\n",
            "Inferene Done for Test ID = 1900\n",
            "Inferene Done for Test ID = 1950\n",
            "Inferene Done for Test ID = 2000\n",
            "Inferene Done for Test ID = 2050\n",
            "Inferene Done for Test ID = 2100\n",
            "Inferene Done for Test ID = 2150\n",
            "Inferene Done for Test ID = 2200\n",
            "Inferene Done for Test ID = 2250\n",
            "Inferene Done for Test ID = 2300\n",
            "Inferene Done for Test ID = 2350\n",
            "Inferene Done for Test ID = 2400\n",
            "Inferene Done for Test ID = 2450\n",
            "\n",
            " Scores:\n",
            "Avergae Rouge 1 F Score   : 0.12755400068193712\n",
            "Avergae Rouge 1 Precision : 0.16140000000000113\n",
            "Avergae Rouge 1 Recall    : 0.11051665880730878\n",
            "\n",
            "\n",
            "Avergae Rouge 2 F Score   : 0.002867930740413862\n",
            "Avergae Rouge 2 Precision : 0.0037599999999999995\n",
            "Avergae Rouge 2 Recall    : 0.0023996814296814296\n",
            "\n",
            "\n",
            "Avergae Rouge L F Score   : 0.10777738661057736\n",
            "Avergae Rouge L Precision : 0.13426666666666737\n",
            "Avergae Rouge L Recall    : 0.09427725134858221\n"
          ],
          "name": "stdout"
        }
      ]
    },
    {
      "cell_type": "markdown",
      "metadata": {
        "id": "QvtZq3EKYOk5"
      },
      "source": [
        "#### **Model Load**"
      ]
    },
    {
      "cell_type": "code",
      "metadata": {
        "id": "ANNzGyLiYRer"
      },
      "source": [
        "# Model Load (Load Already Finetuned Model)\n",
        "device = torch.device(\"cuda\" if torch.cuda.is_available() else \"cpu\")\n",
        "model_load_path = '/content/drive/MyDrive/Title Generation NLP/Model Weights/Seq2Seq_state_dict_Bert_Large_10000.pth'\n",
        "seq2seq.load_state_dict(torch.load(model_load_path, map_location = device))"
      ],
      "execution_count": null,
      "outputs": []
    },
    {
      "cell_type": "markdown",
      "metadata": {
        "id": "F1xhtj2LYZwq"
      },
      "source": [
        "#### **Model Inference**"
      ]
    },
    {
      "cell_type": "code",
      "metadata": {
        "id": "2egn77T_YcPY"
      },
      "source": [
        "def inference(model, tokenizer, test_list, test_dataset, maximum_length, show_abstracts = True):\n",
        "  for test_index in test_list:                      \n",
        "    # Fetch Input and Reference from Test Dataset\n",
        "    data = test_dataset['Abstract'][test_index]\n",
        "    reference = test_dataset['Title'][test_index]\n",
        "\n",
        "    # Inference\n",
        "    input_sentence_ids = torch.tensor(tokenizer.encode(data, add_special_tokens=True)).unsqueeze(0).cuda()\n",
        "    generated = model.generate(input_sentence_ids,\n",
        "                               max_length = maximum_length, \n",
        "                               decoder_start_token_id = model.config.decoder.pad_token_id)\n",
        "    hypothesis = tokenizer.batch_decode(generated, skip_special_tokens=True)[0]\n",
        "    print('\\nTest ID = {}'.format(test_index))\n",
        "    if (show_abstracts == True):\n",
        "      print('\\nAbstract:')\n",
        "      print(data)\n",
        "    print('\\nActual Title:')\n",
        "    print(reference)\n",
        "    print('\\nPredicted Title:')\n",
        "    print(hypothesis)\n",
        "\n",
        "test_list = [1,4,5,7,9,10,12,20,22,100,134,200]                         # Test Indices for Inference\n",
        "inference(seq2seq, tokenizer, test_list, test_data, 24, show_abstracts = False)"
      ],
      "execution_count": null,
      "outputs": []
    },
    {
      "cell_type": "code",
      "metadata": {
        "id": "L98tUvKkjlho"
      },
      "source": [
        ""
      ],
      "execution_count": null,
      "outputs": []
    }
  ]
}